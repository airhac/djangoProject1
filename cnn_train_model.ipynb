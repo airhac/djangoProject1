{
 "cells": [
  {
   "cell_type": "markdown",
   "id": "c434bac9",
   "metadata": {},
   "source": [
    "대형 폐기물 분류 모델\n",
    "============="
   ]
  },
  {
   "cell_type": "markdown",
   "id": "fa94d969",
   "metadata": {},
   "source": [
    "### 데이터 불러오기"
   ]
  },
  {
   "cell_type": "code",
   "execution_count": 1,
   "id": "6e4f7b9a",
   "metadata": {},
   "outputs": [],
   "source": [
    "\n",
    "# 폴더 경로 기반으로 재설정한 초기함수\n",
    "\n",
    "def trash_init(label_filter, resolution):\n",
    "    base_dir = 'C:\\\\Users\\\\park\\\\Desktop\\\\model_1\\\\hackathon - 복사본\\\\'\n",
    "    images = []\n",
    "    idx = []\n",
    "\n",
    "    for label in label_filter:\n",
    "        img_dir = base_dir + label +'/'\n",
    "        img_list = os.listdir(img_dir)\n",
    "        print(f'processing {img_dir} folder')\n",
    "\n",
    "        for img_name in img_list:\n",
    "            \n",
    "            imagepath = os.path.join(img_dir, img_name)\n",
    "            try:\n",
    "                img = Image.open(imagepath)\n",
    "            except FileNotFoundError:\n",
    "                print('FileNotFoundError / continued')\n",
    "                continue\n",
    "            except UnidentifiedImageError:\n",
    "                continue\n",
    "\n",
    "            img_resized = img.resize(resolution)\n",
    "            pixels = np.array(img_resized)\n",
    "            images.append(pixels)\n",
    "\n",
    "\n",
    "            label_idx = label_filter.index(label)\n",
    "            idx.append(np.eye(10)[label_idx])\n",
    "\n",
    "    X = np.asarray(images, dtype=np.float32)\n",
    "    y = np.asarray(idx)\n",
    "    \n",
    "    return X, y"
   ]
  },
  {
   "cell_type": "code",
   "execution_count": 2,
   "id": "175cff86",
   "metadata": {},
   "outputs": [
    {
     "name": "stdout",
     "output_type": "stream",
     "text": [
      "processing C:\\Users\\park\\Desktop\\model_1\\hackathon - 복사본\\침대/ folder\n",
      "processing C:\\Users\\park\\Desktop\\model_1\\hackathon - 복사본\\밥상/ folder\n",
      "processing C:\\Users\\park\\Desktop\\model_1\\hackathon - 복사본\\서랍장/ folder\n",
      "processing C:\\Users\\park\\Desktop\\model_1\\hackathon - 복사본\\수납장/ folder\n",
      "processing C:\\Users\\park\\Desktop\\model_1\\hackathon - 복사본\\의자/ folder\n",
      "processing C:\\Users\\park\\Desktop\\model_1\\hackathon - 복사본\\선풍기/ folder\n",
      "processing C:\\Users\\park\\Desktop\\model_1\\hackathon - 복사본\\냉장고/ folder\n",
      "processing C:\\Users\\park\\Desktop\\model_1\\hackathon - 복사본\\장롱/ folder\n",
      "processing C:\\Users\\park\\Desktop\\model_1\\hackathon - 복사본\\책상/ folder\n",
      "processing C:\\Users\\park\\Desktop\\model_1\\hackathon - 복사본\\소파/ folder\n"
     ]
    }
   ],
   "source": [
    "import os\n",
    "import numpy as np\n",
    "from PIL import Image\n",
    "from PIL import UnidentifiedImageError\n",
    "label_filter = ['침대', '밥상', '서랍장', '수납장', '의자', '선풍기' ,'냉장고', '장롱', '책상', '소파']\n",
    "\n",
    "\n",
    "# 데이터 리사이징\n",
    "X, y = trash_init(label_filter, [112,112])   "
   ]
  },
  {
   "cell_type": "markdown",
   "id": "5f954192",
   "metadata": {},
   "source": [
    "### 정규화"
   ]
  },
  {
   "cell_type": "code",
   "execution_count": 3,
   "id": "b334ba60",
   "metadata": {},
   "outputs": [
    {
     "data": {
      "text/plain": [
       "(1.0, 0.0)"
      ]
     },
     "execution_count": 3,
     "metadata": {},
     "output_type": "execute_result"
    }
   ],
   "source": [
    "np.shape(X), np.shape(y)\n",
    "X_norm = X/ 255.0\n",
    "X_norm.max(), X_norm.min()"
   ]
  },
  {
   "cell_type": "markdown",
   "id": "67d26191",
   "metadata": {},
   "source": [
    "### train_set, test_set 분리"
   ]
  },
  {
   "cell_type": "code",
   "execution_count": 4,
   "id": "abeb980d",
   "metadata": {},
   "outputs": [
    {
     "name": "stdout",
     "output_type": "stream",
     "text": [
      "train_x.shape :  (15905, 112, 112, 3)\n",
      "train_y.shape :  (15905, 10)\n",
      "test_x.shape :  (838, 112, 112, 3)\n",
      "test_y.shape :  (838, 10)\n"
     ]
    }
   ],
   "source": [
    "# 데이터를 섞고 분할\n",
    "# 약 \n",
    "shuffle_map = np.arange(X_norm.shape[0])\n",
    "np.random.shuffle(shuffle_map)\n",
    "\n",
    "train_ratio = 0.95\n",
    "test_ratio = 0.95\n",
    "\n",
    "t_idx = int(X_norm.shape[0] * train_ratio)\n",
    "b_idx = int(X_norm.shape[0] * test_ratio)\n",
    "\n",
    "train_x = X_norm[shuffle_map[:t_idx]] \n",
    "train_y = y[shuffle_map[:t_idx]]\n",
    "\n",
    "test_x  = X_norm[shuffle_map[b_idx:]] \n",
    "test_y  = y[shuffle_map[b_idx : ]]\n",
    "\n",
    "print(\"train_x.shape : \", train_x.shape)\n",
    "print(\"train_y.shape : \", train_y.shape)\n",
    "\n",
    "print(\"test_x.shape : \", test_x.shape)\n",
    "print(\"test_y.shape : \", test_y.shape)"
   ]
  },
  {
   "cell_type": "markdown",
   "id": "02650e78",
   "metadata": {},
   "source": [
    "### CNN 모델 설계"
   ]
  },
  {
   "cell_type": "code",
   "execution_count": 5,
   "id": "f344b5a6",
   "metadata": {},
   "outputs": [
    {
     "name": "stdout",
     "output_type": "stream",
     "text": [
      "Model: \"sequential\"\n",
      "_________________________________________________________________\n",
      "Layer (type)                 Output Shape              Param #   \n",
      "=================================================================\n",
      "conv2d (Conv2D)              (None, 112, 112, 64)      1792      \n",
      "_________________________________________________________________\n",
      "max_pooling2d (MaxPooling2D) (None, 56, 56, 64)        0         \n",
      "_________________________________________________________________\n",
      "dropout (Dropout)            (None, 56, 56, 64)        0         \n",
      "_________________________________________________________________\n",
      "conv2d_1 (Conv2D)            (None, 56, 56, 128)       73856     \n",
      "_________________________________________________________________\n",
      "max_pooling2d_1 (MaxPooling2 (None, 28, 28, 128)       0         \n",
      "_________________________________________________________________\n",
      "dropout_1 (Dropout)          (None, 28, 28, 128)       0         \n",
      "_________________________________________________________________\n",
      "conv2d_2 (Conv2D)            (None, 26, 26, 256)       295168    \n",
      "_________________________________________________________________\n",
      "max_pooling2d_2 (MaxPooling2 (None, 13, 13, 256)       0         \n",
      "_________________________________________________________________\n",
      "dropout_2 (Dropout)          (None, 13, 13, 256)       0         \n",
      "_________________________________________________________________\n",
      "flatten (Flatten)            (None, 43264)             0         \n",
      "_________________________________________________________________\n",
      "dense (Dense)                (None, 256)               11075840  \n",
      "_________________________________________________________________\n",
      "dropout_3 (Dropout)          (None, 256)               0         \n",
      "_________________________________________________________________\n",
      "dense_1 (Dense)              (None, 10)                2570      \n",
      "=================================================================\n",
      "Total params: 11,449,226\n",
      "Trainable params: 11,449,226\n",
      "Non-trainable params: 0\n",
      "_________________________________________________________________\n"
     ]
    }
   ],
   "source": [
    "import tensorflow as tf\n",
    "from tensorflow.keras.utils import to_categorical\n",
    "from tensorflow.keras.models import Sequential\n",
    "from tensorflow.keras.layers import Conv2D, MaxPooling2D, Dense, Flatten, Dropout\n",
    "\n",
    "model = Sequential()\n",
    "model.add(Conv2D(64, kernel_size=(3,3), padding='same',\n",
    "                input_shape=(112,112,3), activation='relu'))\n",
    "model.add(MaxPooling2D(pool_size=(2,2)))\n",
    "model.add(Dropout(0.5))\n",
    "\n",
    "model.add(Conv2D(128, kernel_size=(3,3),padding='same', activation='relu'))\n",
    "model.add(MaxPooling2D(pool_size=(2,2)))\n",
    "model.add(Dropout(0.5))\n",
    "\n",
    "model.add(Conv2D(256, kernel_size=(3,3), activation='relu'))\n",
    "model.add(MaxPooling2D(pool_size=(2,2)))\n",
    "model.add(Dropout(0.5))\n",
    "\n",
    "model.add(Flatten())\n",
    "model.add(Dense(256, activation='relu'))\n",
    "model.add(Dropout(0.5))\n",
    "model.add(Dense(10, activation='softmax'))\n",
    "\n",
    "\n",
    "# 학습 조기종료 설정\n",
    "# 모델 저장 경로 설정\n",
    "callback_list = [\n",
    "        tf.keras.callbacks.EarlyStopping( \n",
    "        monitor='val_accuracy', \n",
    "        patience=10      \n",
    "    ),\n",
    "        tf.keras.callbacks.ModelCheckpoint( \n",
    "        filepath='saved_model/keras_final', \n",
    "        monitor='val_loss',  \n",
    "        save_best_only=True\n",
    "    )\n",
    "]\n",
    "\n",
    "\n",
    "\n",
    "model.compile(\n",
    "    optimizer='adam',\n",
    "    loss='categorical_crossentropy',\n",
    "    metrics=['accuracy']\n",
    ")\n",
    "\n",
    "\n",
    "model.summary()"
   ]
  },
  {
   "cell_type": "markdown",
   "id": "efed3c97",
   "metadata": {},
   "source": [
    "### 학습시작"
   ]
  },
  {
   "cell_type": "code",
   "execution_count": 6,
   "id": "62ccc9b2",
   "metadata": {},
   "outputs": [
    {
     "name": "stdout",
     "output_type": "stream",
     "text": [
      "Epoch 1/100\n",
      "199/199 [==============================] - 20s 50ms/step - loss: 2.2497 - accuracy: 0.1887 - val_loss: 2.0462 - val_accuracy: 0.3090\n",
      "INFO:tensorflow:Assets written to: saved_model\\keras_final\\assets\n",
      "Epoch 2/100\n",
      "199/199 [==============================] - 8s 41ms/step - loss: 1.9665 - accuracy: 0.2917 - val_loss: 1.8843 - val_accuracy: 0.2999\n",
      "INFO:tensorflow:Assets written to: saved_model\\keras_final\\assets\n",
      "Epoch 3/100\n",
      "199/199 [==============================] - 8s 41ms/step - loss: 1.8141 - accuracy: 0.3438 - val_loss: 1.7221 - val_accuracy: 0.3816\n",
      "INFO:tensorflow:Assets written to: saved_model\\keras_final\\assets\n",
      "Epoch 4/100\n",
      "199/199 [==============================] - 8s 41ms/step - loss: 1.6849 - accuracy: 0.3905 - val_loss: 1.6939 - val_accuracy: 0.3779\n",
      "INFO:tensorflow:Assets written to: saved_model\\keras_final\\assets\n",
      "Epoch 5/100\n",
      "199/199 [==============================] - 8s 41ms/step - loss: 1.6230 - accuracy: 0.4129 - val_loss: 1.6081 - val_accuracy: 0.4241\n",
      "INFO:tensorflow:Assets written to: saved_model\\keras_final\\assets\n",
      "Epoch 6/100\n",
      "199/199 [==============================] - 8s 41ms/step - loss: 1.5760 - accuracy: 0.4329 - val_loss: 1.5702 - val_accuracy: 0.4373\n",
      "INFO:tensorflow:Assets written to: saved_model\\keras_final\\assets\n",
      "Epoch 7/100\n",
      "199/199 [==============================] - 8s 41ms/step - loss: 1.5418 - accuracy: 0.4449 - val_loss: 1.6369 - val_accuracy: 0.4090\n",
      "Epoch 8/100\n",
      "199/199 [==============================] - 9s 43ms/step - loss: 1.4963 - accuracy: 0.4639 - val_loss: 1.6027 - val_accuracy: 0.4269\n",
      "Epoch 9/100\n",
      "199/199 [==============================] - 8s 42ms/step - loss: 1.4586 - accuracy: 0.4730 - val_loss: 1.4333 - val_accuracy: 0.4958\n",
      "INFO:tensorflow:Assets written to: saved_model\\keras_final\\assets\n",
      "Epoch 10/100\n",
      "199/199 [==============================] - 9s 43ms/step - loss: 1.4238 - accuracy: 0.4888 - val_loss: 1.5246 - val_accuracy: 0.4653\n",
      "Epoch 11/100\n",
      "199/199 [==============================] - 9s 43ms/step - loss: 1.3888 - accuracy: 0.4950 - val_loss: 1.4267 - val_accuracy: 0.4948\n",
      "INFO:tensorflow:Assets written to: saved_model\\keras_final\\assets\n",
      "Epoch 12/100\n",
      "199/199 [==============================] - 8s 43ms/step - loss: 1.3455 - accuracy: 0.5180 - val_loss: 1.4187 - val_accuracy: 0.5121\n",
      "INFO:tensorflow:Assets written to: saved_model\\keras_final\\assets\n",
      "Epoch 13/100\n",
      "199/199 [==============================] - 8s 43ms/step - loss: 1.3167 - accuracy: 0.5249 - val_loss: 1.4662 - val_accuracy: 0.4885\n",
      "Epoch 14/100\n",
      "199/199 [==============================] - 9s 45ms/step - loss: 1.2908 - accuracy: 0.5327 - val_loss: 1.4277 - val_accuracy: 0.4920\n",
      "Epoch 15/100\n",
      "199/199 [==============================] - 9s 43ms/step - loss: 1.2713 - accuracy: 0.5424 - val_loss: 1.3113 - val_accuracy: 0.5310\n",
      "INFO:tensorflow:Assets written to: saved_model\\keras_final\\assets\n",
      "Epoch 16/100\n",
      "199/199 [==============================] - 8s 43ms/step - loss: 1.2716 - accuracy: 0.5420 - val_loss: 1.3138 - val_accuracy: 0.5404\n",
      "Epoch 17/100\n",
      "199/199 [==============================] - 9s 43ms/step - loss: 1.2308 - accuracy: 0.5530 - val_loss: 1.2620 - val_accuracy: 0.5539\n",
      "INFO:tensorflow:Assets written to: saved_model\\keras_final\\assets\n",
      "Epoch 18/100\n",
      "199/199 [==============================] - 9s 44ms/step - loss: 1.2105 - accuracy: 0.5578 - val_loss: 1.2408 - val_accuracy: 0.5668\n",
      "INFO:tensorflow:Assets written to: saved_model\\keras_final\\assets\n",
      "Epoch 19/100\n",
      "199/199 [==============================] - 9s 44ms/step - loss: 1.1924 - accuracy: 0.5674 - val_loss: 1.2868 - val_accuracy: 0.5501\n",
      "Epoch 20/100\n",
      "199/199 [==============================] - 9s 44ms/step - loss: 1.1579 - accuracy: 0.5766 - val_loss: 1.2510 - val_accuracy: 0.5593\n",
      "Epoch 21/100\n",
      "199/199 [==============================] - 8s 43ms/step - loss: 1.1465 - accuracy: 0.5817 - val_loss: 1.2526 - val_accuracy: 0.5593\n",
      "Epoch 22/100\n",
      "199/199 [==============================] - 9s 45ms/step - loss: 1.1184 - accuracy: 0.5905 - val_loss: 1.2922 - val_accuracy: 0.5574\n",
      "Epoch 23/100\n",
      "199/199 [==============================] - 9s 43ms/step - loss: 1.1040 - accuracy: 0.5966 - val_loss: 1.3143 - val_accuracy: 0.5341\n",
      "Epoch 24/100\n",
      "199/199 [==============================] - 8s 42ms/step - loss: 1.0869 - accuracy: 0.6022 - val_loss: 1.2331 - val_accuracy: 0.5696\n",
      "INFO:tensorflow:Assets written to: saved_model\\keras_final\\assets\n",
      "Epoch 25/100\n",
      "199/199 [==============================] - 9s 43ms/step - loss: 1.0689 - accuracy: 0.6146 - val_loss: 1.2955 - val_accuracy: 0.5523\n",
      "Epoch 26/100\n",
      "199/199 [==============================] - 9s 45ms/step - loss: 1.0593 - accuracy: 0.6192 - val_loss: 1.2094 - val_accuracy: 0.5696\n",
      "INFO:tensorflow:Assets written to: saved_model\\keras_final\\assets\n",
      "Epoch 27/100\n",
      "199/199 [==============================] - 9s 45ms/step - loss: 1.0388 - accuracy: 0.6266 - val_loss: 1.1764 - val_accuracy: 0.5775\n",
      "INFO:tensorflow:Assets written to: saved_model\\keras_final\\assets\n",
      "Epoch 28/100\n",
      "199/199 [==============================] - 9s 43ms/step - loss: 1.0247 - accuracy: 0.6353 - val_loss: 1.1541 - val_accuracy: 0.6048\n",
      "INFO:tensorflow:Assets written to: saved_model\\keras_final\\assets\n",
      "Epoch 29/100\n",
      "199/199 [==============================] - 8s 42ms/step - loss: 1.0023 - accuracy: 0.6375 - val_loss: 1.4310 - val_accuracy: 0.5112\n",
      "Epoch 30/100\n",
      "199/199 [==============================] - 8s 41ms/step - loss: 0.9924 - accuracy: 0.6412 - val_loss: 1.2115 - val_accuracy: 0.5703\n",
      "Epoch 31/100\n",
      "199/199 [==============================] - 8s 41ms/step - loss: 0.9709 - accuracy: 0.6519 - val_loss: 1.2058 - val_accuracy: 0.5637\n",
      "Epoch 32/100\n",
      "199/199 [==============================] - 8s 39ms/step - loss: 0.9837 - accuracy: 0.6404 - val_loss: 1.0851 - val_accuracy: 0.6111\n",
      "INFO:tensorflow:Assets written to: saved_model\\keras_final\\assets\n",
      "Epoch 33/100\n",
      "199/199 [==============================] - 8s 41ms/step - loss: 0.9511 - accuracy: 0.6577 - val_loss: 1.1121 - val_accuracy: 0.6108\n",
      "Epoch 34/100\n",
      "199/199 [==============================] - 9s 43ms/step - loss: 0.9305 - accuracy: 0.6636 - val_loss: 1.2512 - val_accuracy: 0.5527\n",
      "Epoch 35/100\n",
      "199/199 [==============================] - 9s 43ms/step - loss: 0.9231 - accuracy: 0.6656 - val_loss: 1.3205 - val_accuracy: 0.5354\n",
      "Epoch 36/100\n",
      "199/199 [==============================] - 8s 42ms/step - loss: 0.9193 - accuracy: 0.6683 - val_loss: 1.2151 - val_accuracy: 0.5709\n",
      "Epoch 37/100\n",
      "199/199 [==============================] - 8s 40ms/step - loss: 0.8956 - accuracy: 0.6748 - val_loss: 1.1506 - val_accuracy: 0.6026\n",
      "Epoch 38/100\n",
      "199/199 [==============================] - 8s 41ms/step - loss: 0.8855 - accuracy: 0.6749 - val_loss: 1.0935 - val_accuracy: 0.6284\n",
      "Epoch 39/100\n",
      "199/199 [==============================] - 8s 42ms/step - loss: 0.8843 - accuracy: 0.6737 - val_loss: 1.1703 - val_accuracy: 0.5923\n",
      "Epoch 40/100\n",
      "199/199 [==============================] - 9s 43ms/step - loss: 0.8654 - accuracy: 0.6825 - val_loss: 1.0873 - val_accuracy: 0.6196\n",
      "Epoch 41/100\n",
      "199/199 [==============================] - 8s 43ms/step - loss: 0.8482 - accuracy: 0.6900 - val_loss: 1.1464 - val_accuracy: 0.6001\n",
      "Epoch 42/100\n",
      "199/199 [==============================] - 9s 43ms/step - loss: 0.8361 - accuracy: 0.6929 - val_loss: 1.1391 - val_accuracy: 0.5920\n",
      "Epoch 43/100\n",
      "199/199 [==============================] - 9s 43ms/step - loss: 0.8438 - accuracy: 0.6914 - val_loss: 1.0817 - val_accuracy: 0.6231\n",
      "INFO:tensorflow:Assets written to: saved_model\\keras_final\\assets\n",
      "Epoch 44/100\n",
      "199/199 [==============================] - 8s 41ms/step - loss: 0.8245 - accuracy: 0.6999 - val_loss: 1.1826 - val_accuracy: 0.5863\n",
      "Epoch 45/100\n",
      "199/199 [==============================] - 8s 40ms/step - loss: 0.8046 - accuracy: 0.7038 - val_loss: 1.1453 - val_accuracy: 0.5948\n",
      "Epoch 46/100\n",
      "199/199 [==============================] - 8s 40ms/step - loss: 0.8186 - accuracy: 0.7013 - val_loss: 1.0638 - val_accuracy: 0.6240\n",
      "INFO:tensorflow:Assets written to: saved_model\\keras_final\\assets\n",
      "Epoch 47/100\n",
      "199/199 [==============================] - 8s 41ms/step - loss: 0.7923 - accuracy: 0.7075 - val_loss: 1.1964 - val_accuracy: 0.5866\n",
      "Epoch 48/100\n",
      "199/199 [==============================] - 8s 42ms/step - loss: 0.7900 - accuracy: 0.7145 - val_loss: 1.0472 - val_accuracy: 0.6294\n"
     ]
    },
    {
     "name": "stdout",
     "output_type": "stream",
     "text": [
      "INFO:tensorflow:Assets written to: saved_model\\keras_final\\assets\n",
      "Epoch 49/100\n",
      "199/199 [==============================] - 8s 41ms/step - loss: 0.7886 - accuracy: 0.7131 - val_loss: 1.1017 - val_accuracy: 0.6171\n",
      "Epoch 50/100\n",
      "199/199 [==============================] - 8s 41ms/step - loss: 0.7916 - accuracy: 0.7164 - val_loss: 1.0878 - val_accuracy: 0.6221\n",
      "Epoch 51/100\n",
      "199/199 [==============================] - 9s 43ms/step - loss: 0.7657 - accuracy: 0.7202 - val_loss: 1.0700 - val_accuracy: 0.6250\n",
      "Epoch 52/100\n",
      "199/199 [==============================] - 9s 44ms/step - loss: 0.7459 - accuracy: 0.7304 - val_loss: 1.1410 - val_accuracy: 0.6042\n",
      "Epoch 53/100\n",
      "199/199 [==============================] - 9s 44ms/step - loss: 0.7541 - accuracy: 0.7267 - val_loss: 1.2163 - val_accuracy: 0.5737\n",
      "Epoch 54/100\n",
      "199/199 [==============================] - 9s 43ms/step - loss: 0.7410 - accuracy: 0.7323 - val_loss: 1.1175 - val_accuracy: 0.6026\n",
      "Epoch 55/100\n",
      "199/199 [==============================] - 8s 42ms/step - loss: 0.7460 - accuracy: 0.7284 - val_loss: 1.1773 - val_accuracy: 0.5989\n",
      "Epoch 56/100\n",
      "199/199 [==============================] - 8s 43ms/step - loss: 0.7277 - accuracy: 0.7344 - val_loss: 1.1078 - val_accuracy: 0.6086\n",
      "Epoch 57/100\n",
      "199/199 [==============================] - 9s 44ms/step - loss: 0.7187 - accuracy: 0.7381 - val_loss: 1.1151 - val_accuracy: 0.6114\n",
      "Epoch 58/100\n",
      "199/199 [==============================] - 9s 44ms/step - loss: 0.7166 - accuracy: 0.7424 - val_loss: 1.1267 - val_accuracy: 0.6124\n"
     ]
    }
   ],
   "source": [
    "history = model.fit(\n",
    "    train_x, train_y,\n",
    "    epochs=100,\n",
    "    callbacks=callback_list,\n",
    "    batch_size=64,\n",
    "    validation_split=0.2\n",
    ")"
   ]
  },
  {
   "cell_type": "markdown",
   "id": "934c1611",
   "metadata": {},
   "source": [
    "### 학습결과 시각화"
   ]
  },
  {
   "cell_type": "code",
   "execution_count": 7,
   "id": "396f9f43",
   "metadata": {},
   "outputs": [
    {
     "data": {
      "image/png": "[encoded data removed]",
      "text/plain": [
       "<Figure size 864x576 with 2 Axes>"
      ]
     },
     "metadata": {
      "needs_background": "light"
     },
     "output_type": "display_data"
    }
   ],
   "source": [
    "import matplotlib.pyplot as plt \n",
    "\n",
    "figs, loss_ax = plt.subplots()\n",
    "acc_ax=loss_ax.twinx()\n",
    "loss_ax.plot(history.history['loss'],'y',label='train loss')\n",
    "loss_ax.plot(history.history['val_loss'],'r',label='val loss')\n",
    "\n",
    "acc_ax.plot(history.history['accuracy'],'b',label='train acc')\n",
    "acc_ax.plot(history.history['val_accuracy'],'g',label='val acc')\n",
    "\n",
    "acc_ax.set_ylabel('accuracy')\n",
    "\n",
    "loss_ax.legend(loc='upper left')\n",
    "acc_ax.legend(loc='lower left')\n",
    "loss_ax.set_xlabel('epoch')\n",
    "loss_ax.set_ylabel('loss')\n",
    "\n",
    "figs.set_size_inches(12, 8, forward=True)\n",
    "plt.show()"
   ]
  },
  {
   "cell_type": "markdown",
   "id": "3de47835",
   "metadata": {},
   "source": [
    "### test_set 모델 적용"
   ]
  },
  {
   "cell_type": "code",
   "execution_count": 8,
   "id": "6ec1fb87",
   "metadata": {},
   "outputs": [
    {
     "name": "stdout",
     "output_type": "stream",
     "text": [
      "27/27 [==============================] - 1s 12ms/step - loss: 1.1143 - accuracy: 0.6253\n",
      "cost:1.1143336296081543\n",
      "accuracy:0.6252983212471008\n"
     ]
    }
   ],
   "source": [
    "res=model.evaluate(test_x, test_y, batch_size=32)\n",
    "print(\"cost:\"+str(res[0]))\n",
    "print(\"accuracy:\"+str(res[1]))"
   ]
  },
  {
   "cell_type": "markdown",
   "id": "5ca49b27",
   "metadata": {},
   "source": [
    "### 실제 이미지 모델 적용"
   ]
  },
  {
   "cell_type": "code",
   "execution_count": 9,
   "id": "4c4f9c7c",
   "metadata": {},
   "outputs": [],
   "source": [
    "label_filter = ['침대', '밥상', '서랍장', '수납장', '의자', '선풍기' ,'냉장고', '장롱', '책상', '소파']\n",
    "\n",
    "def trash_pred(img):\n",
    "    images = []\n",
    "    img_resized = img.resize([112,112])\n",
    "    pixels = np.array(img_resized)\n",
    "    images.append(pixels)\n",
    "    X = np.asarray(images, dtype=np.float32)\n",
    "    xhat = X/ 255.0\n",
    "    yhat = model.predict(xhat)\n",
    "    return label_filter[np.argmax(yhat)]"
   ]
  },
  {
   "cell_type": "code",
   "execution_count": 10,
   "id": "7bfa8c95",
   "metadata": {},
   "outputs": [
    {
     "data": {
      "text/plain": [
       "'선풍기'"
      ]
     },
     "execution_count": 10,
     "metadata": {},
     "output_type": "execute_result"
    }
   ],
   "source": [
    "path = 'C:\\\\Users\\\\park\\\\Downloads\\\\선풍기2.jpg'\n",
    "\n",
    "img = Image.open(path)\n",
    "\n",
    "trash_pred(img)"
   ]
  },
  {
   "cell_type": "markdown",
   "id": "b85ba0f7",
   "metadata": {},
   "source": [
    "### 모델 저장"
   ]
  },
  {
   "cell_type": "code",
   "execution_count": 11,
   "id": "07d8220f",
   "metadata": {},
   "outputs": [],
   "source": [
    "model.save('keras_final.h5')"
   ]
  },
  {
   "cell_type": "code",
   "execution_count": null,
   "id": "3e29bf18",
   "metadata": {},
   "outputs": [],
   "source": []
  }
 ],
 "metadata": {
  "kernelspec": {
   "display_name": "Python 3",
   "language": "python",
   "name": "python3"
  },
  "language_info": {
   "codemirror_mode": {
    "name": "ipython",
    "version": 3
   },
   "file_extension": ".py",
   "mimetype": "text/x-python",
   "name": "python",
   "nbconvert_exporter": "python",
   "pygments_lexer": "ipython3",
   "version": "3.8.8"
  }
 },
 "nbformat": 4,
 "nbformat_minor": 5
}
